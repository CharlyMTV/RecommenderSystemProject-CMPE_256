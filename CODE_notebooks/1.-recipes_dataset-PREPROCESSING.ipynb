{
 "cells": [
  {
   "cell_type": "markdown",
   "id": "ce255a15",
   "metadata": {},
   "source": [
    "# RECIPES REVIEW "
   ]
  },
  {
   "cell_type": "markdown",
   "id": "ca5e5301",
   "metadata": {},
   "source": [
    "# RECOMMENDER SYSTEM WITH MATRIX FACTORIZATION & ML<br>\n",
    "\n",
    "The following project implements a collaborative recommender system with matrix factorization and machine learning methods for food recipe recommendations. The code takes two datasets, preprocess them, and calculates the weights of a factorized matrix using ML  algorithm.<br>\n",
    "- **NOTE:** Project inspired by Google Recommender Systems Online Course : https://developers.google.com/machine-learning/recommendation\n",
    "\n",
    "# Index\n",
    "- [ 1 - Preprocessing](#1)\n",
    "- [ 2 - Model Training](#2)\n",
    "- [ 3 - Predictions](#3)\n",
    "- [ 4 - Recommendation](#4)"
   ]
  },
  {
   "cell_type": "markdown",
   "id": "e2812281",
   "metadata": {},
   "source": [
    "# 1.- PREPROCESSING"
   ]
  },
  {
   "cell_type": "markdown",
   "id": "2aa304e1",
   "metadata": {},
   "source": [
    "## Libraries"
   ]
  },
  {
   "cell_type": "code",
   "execution_count": null,
   "id": "944b41d5",
   "metadata": {},
   "outputs": [],
   "source": [
    "##########################################################################################################################"
   ]
  },
  {
   "cell_type": "code",
   "execution_count": 1,
   "id": "8750e616",
   "metadata": {},
   "outputs": [],
   "source": [
    "import numpy       as     np\n",
    "import pandas      as     pd\n",
    "import tensorflow  as     tf\n",
    "from   tensorflow  import keras"
   ]
  },
  {
   "cell_type": "markdown",
   "id": "9caddd2a",
   "metadata": {},
   "source": [
    "## Import Datasets\n",
    "- RAW_recipes\n",
    "- RAW_interactions"
   ]
  },
  {
   "cell_type": "code",
   "execution_count": null,
   "id": "63b2e0f5",
   "metadata": {},
   "outputs": [],
   "source": [
    "##########################################################################################################################"
   ]
  },
  {
   "cell_type": "code",
   "execution_count": 2,
   "id": "33b0d030",
   "metadata": {},
   "outputs": [],
   "source": [
    "recipes_id = pd.read_csv        ('raw_data/RAW_recipes.csv', usecols=['id','name'])\n",
    "recipes_id = recipes_id         [['id','name']]\n",
    "recipes_id = recipes_id.rename  (columns={'id':'recipe_id', 'name':'name_of_recipe'})"
   ]
  },
  {
   "cell_type": "code",
   "execution_count": 3,
   "id": "7b236ad2",
   "metadata": {},
   "outputs": [
    {
     "data": {
      "text/html": [
       "<div>\n",
       "<style scoped>\n",
       "    .dataframe tbody tr th:only-of-type {\n",
       "        vertical-align: middle;\n",
       "    }\n",
       "\n",
       "    .dataframe tbody tr th {\n",
       "        vertical-align: top;\n",
       "    }\n",
       "\n",
       "    .dataframe thead th {\n",
       "        text-align: right;\n",
       "    }\n",
       "</style>\n",
       "<table border=\"1\" class=\"dataframe\">\n",
       "  <thead>\n",
       "    <tr style=\"text-align: right;\">\n",
       "      <th></th>\n",
       "      <th>recipe_id</th>\n",
       "      <th>name_of_recipe</th>\n",
       "    </tr>\n",
       "  </thead>\n",
       "  <tbody>\n",
       "    <tr>\n",
       "      <th>0</th>\n",
       "      <td>137739</td>\n",
       "      <td>arriba   baked winter squash mexican style</td>\n",
       "    </tr>\n",
       "    <tr>\n",
       "      <th>1</th>\n",
       "      <td>31490</td>\n",
       "      <td>a bit different  breakfast pizza</td>\n",
       "    </tr>\n",
       "    <tr>\n",
       "      <th>2</th>\n",
       "      <td>112140</td>\n",
       "      <td>all in the kitchen  chili</td>\n",
       "    </tr>\n",
       "    <tr>\n",
       "      <th>3</th>\n",
       "      <td>59389</td>\n",
       "      <td>alouette  potatoes</td>\n",
       "    </tr>\n",
       "    <tr>\n",
       "      <th>4</th>\n",
       "      <td>44061</td>\n",
       "      <td>amish  tomato ketchup  for canning</td>\n",
       "    </tr>\n",
       "    <tr>\n",
       "      <th>...</th>\n",
       "      <td>...</td>\n",
       "      <td>...</td>\n",
       "    </tr>\n",
       "    <tr>\n",
       "      <th>231632</th>\n",
       "      <td>486161</td>\n",
       "      <td>zydeco soup</td>\n",
       "    </tr>\n",
       "    <tr>\n",
       "      <th>231633</th>\n",
       "      <td>493372</td>\n",
       "      <td>zydeco spice mix</td>\n",
       "    </tr>\n",
       "    <tr>\n",
       "      <th>231634</th>\n",
       "      <td>308080</td>\n",
       "      <td>zydeco ya ya deviled eggs</td>\n",
       "    </tr>\n",
       "    <tr>\n",
       "      <th>231635</th>\n",
       "      <td>298512</td>\n",
       "      <td>cookies by design   cookies on a stick</td>\n",
       "    </tr>\n",
       "    <tr>\n",
       "      <th>231636</th>\n",
       "      <td>298509</td>\n",
       "      <td>cookies by design   sugar shortbread cookies</td>\n",
       "    </tr>\n",
       "  </tbody>\n",
       "</table>\n",
       "<p>231637 rows × 2 columns</p>\n",
       "</div>"
      ],
      "text/plain": [
       "        recipe_id                                name_of_recipe\n",
       "0          137739    arriba   baked winter squash mexican style\n",
       "1           31490              a bit different  breakfast pizza\n",
       "2          112140                     all in the kitchen  chili\n",
       "3           59389                            alouette  potatoes\n",
       "4           44061            amish  tomato ketchup  for canning\n",
       "...           ...                                           ...\n",
       "231632     486161                                   zydeco soup\n",
       "231633     493372                              zydeco spice mix\n",
       "231634     308080                     zydeco ya ya deviled eggs\n",
       "231635     298512        cookies by design   cookies on a stick\n",
       "231636     298509  cookies by design   sugar shortbread cookies\n",
       "\n",
       "[231637 rows x 2 columns]"
      ]
     },
     "execution_count": 3,
     "metadata": {},
     "output_type": "execute_result"
    }
   ],
   "source": [
    "recipes_id"
   ]
  },
  {
   "cell_type": "code",
   "execution_count": null,
   "id": "faa4c20e",
   "metadata": {},
   "outputs": [],
   "source": [
    "##########################################################################################################################"
   ]
  },
  {
   "cell_type": "code",
   "execution_count": 4,
   "id": "28e61589",
   "metadata": {},
   "outputs": [],
   "source": [
    "reviews = pd.read_csv(('raw_data/RAW_interactions.csv'), usecols=['user_id','recipe_id','rating'])"
   ]
  },
  {
   "cell_type": "code",
   "execution_count": 5,
   "id": "bcc0f959",
   "metadata": {
    "scrolled": false
   },
   "outputs": [
    {
     "data": {
      "text/html": [
       "<div>\n",
       "<style scoped>\n",
       "    .dataframe tbody tr th:only-of-type {\n",
       "        vertical-align: middle;\n",
       "    }\n",
       "\n",
       "    .dataframe tbody tr th {\n",
       "        vertical-align: top;\n",
       "    }\n",
       "\n",
       "    .dataframe thead th {\n",
       "        text-align: right;\n",
       "    }\n",
       "</style>\n",
       "<table border=\"1\" class=\"dataframe\">\n",
       "  <thead>\n",
       "    <tr style=\"text-align: right;\">\n",
       "      <th></th>\n",
       "      <th>user_id</th>\n",
       "      <th>recipe_id</th>\n",
       "      <th>rating</th>\n",
       "    </tr>\n",
       "  </thead>\n",
       "  <tbody>\n",
       "    <tr>\n",
       "      <th>0</th>\n",
       "      <td>38094</td>\n",
       "      <td>40893</td>\n",
       "      <td>4</td>\n",
       "    </tr>\n",
       "    <tr>\n",
       "      <th>1</th>\n",
       "      <td>1293707</td>\n",
       "      <td>40893</td>\n",
       "      <td>5</td>\n",
       "    </tr>\n",
       "    <tr>\n",
       "      <th>2</th>\n",
       "      <td>8937</td>\n",
       "      <td>44394</td>\n",
       "      <td>4</td>\n",
       "    </tr>\n",
       "    <tr>\n",
       "      <th>3</th>\n",
       "      <td>126440</td>\n",
       "      <td>85009</td>\n",
       "      <td>5</td>\n",
       "    </tr>\n",
       "    <tr>\n",
       "      <th>4</th>\n",
       "      <td>57222</td>\n",
       "      <td>85009</td>\n",
       "      <td>5</td>\n",
       "    </tr>\n",
       "    <tr>\n",
       "      <th>...</th>\n",
       "      <td>...</td>\n",
       "      <td>...</td>\n",
       "      <td>...</td>\n",
       "    </tr>\n",
       "    <tr>\n",
       "      <th>1132362</th>\n",
       "      <td>116593</td>\n",
       "      <td>72730</td>\n",
       "      <td>0</td>\n",
       "    </tr>\n",
       "    <tr>\n",
       "      <th>1132363</th>\n",
       "      <td>583662</td>\n",
       "      <td>386618</td>\n",
       "      <td>5</td>\n",
       "    </tr>\n",
       "    <tr>\n",
       "      <th>1132364</th>\n",
       "      <td>157126</td>\n",
       "      <td>78003</td>\n",
       "      <td>5</td>\n",
       "    </tr>\n",
       "    <tr>\n",
       "      <th>1132365</th>\n",
       "      <td>53932</td>\n",
       "      <td>78003</td>\n",
       "      <td>4</td>\n",
       "    </tr>\n",
       "    <tr>\n",
       "      <th>1132366</th>\n",
       "      <td>2001868099</td>\n",
       "      <td>78003</td>\n",
       "      <td>5</td>\n",
       "    </tr>\n",
       "  </tbody>\n",
       "</table>\n",
       "<p>1132367 rows × 3 columns</p>\n",
       "</div>"
      ],
      "text/plain": [
       "            user_id  recipe_id  rating\n",
       "0             38094      40893       4\n",
       "1           1293707      40893       5\n",
       "2              8937      44394       4\n",
       "3            126440      85009       5\n",
       "4             57222      85009       5\n",
       "...             ...        ...     ...\n",
       "1132362      116593      72730       0\n",
       "1132363      583662     386618       5\n",
       "1132364      157126      78003       5\n",
       "1132365       53932      78003       4\n",
       "1132366  2001868099      78003       5\n",
       "\n",
       "[1132367 rows x 3 columns]"
      ]
     },
     "execution_count": 5,
     "metadata": {},
     "output_type": "execute_result"
    }
   ],
   "source": [
    "reviews"
   ]
  },
  {
   "cell_type": "markdown",
   "id": "1fe8cae2",
   "metadata": {},
   "source": [
    "## Filter Datasets<br>\n",
    "The users/recipes with little/negligible interactions are removed to create a denser less sparse Utility Matrix:<br>\n",
    "- Users with 7 reviews or less\n",
    "- Recipes with 7 reviews or less"
   ]
  },
  {
   "cell_type": "code",
   "execution_count": null,
   "id": "b842959f",
   "metadata": {},
   "outputs": [],
   "source": [
    "##########################################################################################################################"
   ]
  },
  {
   "cell_type": "code",
   "execution_count": 6,
   "id": "1fa0e84f",
   "metadata": {
    "scrolled": true
   },
   "outputs": [
    {
     "data": {
      "text/plain": [
       "user_id\n",
       "1533          128\n",
       "1535          794\n",
       "1581            1\n",
       "1634           60\n",
       "1676           31\n",
       "             ... \n",
       "2002371755      1\n",
       "2002371792      1\n",
       "2002371843      1\n",
       "2002372464      1\n",
       "2002372706      1\n",
       "Name: recipe_id, Length: 226570, dtype: int64"
      ]
     },
     "execution_count": 6,
     "metadata": {},
     "output_type": "execute_result"
    }
   ],
   "source": [
    "# Calculate the number of recipes rated by each user\n",
    "\n",
    "user_NumRecipes_count = reviews.groupby('user_id')['recipe_id'].count()         \n",
    "user_NumRecipes_count"
   ]
  },
  {
   "cell_type": "code",
   "execution_count": 7,
   "id": "373928c3",
   "metadata": {},
   "outputs": [],
   "source": [
    "# Creates a list with 'users' that have rated > 7 recipes\n",
    "\n",
    "users_filtered = user_NumRecipes_count[user_NumRecipes_count > 7].index"
   ]
  },
  {
   "cell_type": "code",
   "execution_count": 8,
   "id": "359d30a7",
   "metadata": {},
   "outputs": [],
   "source": [
    "# Maintain in 'reviews - user-id' the 'user_id's' contained in 'users_filtered'\n",
    "\n",
    "reviews_filtered = reviews[reviews['user_id'].isin(users_filtered)]"
   ]
  },
  {
   "cell_type": "code",
   "execution_count": null,
   "id": "82cf44d2",
   "metadata": {},
   "outputs": [],
   "source": [
    "##########################################################################################################################"
   ]
  },
  {
   "cell_type": "code",
   "execution_count": 9,
   "id": "c6b16456",
   "metadata": {},
   "outputs": [
    {
     "data": {
      "text/plain": [
       "recipe_id\n",
       "38        2\n",
       "40        5\n",
       "41        2\n",
       "43        1\n",
       "45        3\n",
       "         ..\n",
       "537319    1\n",
       "537458    1\n",
       "537459    1\n",
       "537485    1\n",
       "537716    1\n",
       "Name: user_id, Length: 206961, dtype: int64"
      ]
     },
     "execution_count": 9,
     "metadata": {},
     "output_type": "execute_result"
    }
   ],
   "source": [
    "# Calculate the number of times each recipe was rated\n",
    "\n",
    "recipe_NumUsers_count = reviews_filtered.groupby('recipe_id')['user_id'].count() \n",
    "recipe_NumUsers_count"
   ]
  },
  {
   "cell_type": "code",
   "execution_count": 10,
   "id": "bf1c04f7",
   "metadata": {},
   "outputs": [],
   "source": [
    "# Creates a list with 'recipe_ids' that have been rated > 7 times\n",
    "\n",
    "recipes_filtered = recipe_NumUsers_count[recipe_NumUsers_count > 7].index"
   ]
  },
  {
   "cell_type": "code",
   "execution_count": 11,
   "id": "04e8f3a0",
   "metadata": {
    "scrolled": false
   },
   "outputs": [],
   "source": [
    "# Maintain in 'reviews_filtered - recipe_id' the 'recipe_id's' contained in 'recipe_NumUsers_count'\n",
    "\n",
    "reviews_filtered = reviews_filtered[reviews_filtered['recipe_id'].isin(recipes_filtered)]"
   ]
  },
  {
   "cell_type": "code",
   "execution_count": null,
   "id": "a939cc03",
   "metadata": {},
   "outputs": [],
   "source": [
    "##########################################################################################################################"
   ]
  },
  {
   "cell_type": "code",
   "execution_count": 12,
   "id": "ceff8b3b",
   "metadata": {},
   "outputs": [
    {
     "data": {
      "text/plain": [
       "rating\n",
       "5    328804\n",
       "4     64632\n",
       "3     13306\n",
       "0      9658\n",
       "2      3907\n",
       "1      1766\n",
       "Name: count, dtype: int64"
      ]
     },
     "execution_count": 12,
     "metadata": {},
     "output_type": "execute_result"
    }
   ],
   "source": [
    "reviews_filtered['rating'].value_counts()"
   ]
  },
  {
   "cell_type": "code",
   "execution_count": 13,
   "id": "c0e630ef",
   "metadata": {
    "scrolled": true
   },
   "outputs": [
    {
     "data": {
      "text/plain": [
       "rating\n",
       "5    328804\n",
       "4     64632\n",
       "3     13306\n",
       "2      3907\n",
       "1      1766\n",
       "Name: count, dtype: int64"
      ]
     },
     "execution_count": 13,
     "metadata": {},
     "output_type": "execute_result"
    }
   ],
   "source": [
    "# Remove rows with rating value equal to 0\n",
    "\n",
    "reviews_filtered = reviews_filtered[reviews_filtered['rating'] != 0]\n",
    "reviews_filtered['rating'].value_counts()"
   ]
  },
  {
   "cell_type": "markdown",
   "id": "18fe56c6",
   "metadata": {},
   "source": [
    "## Utility Matrix"
   ]
  },
  {
   "cell_type": "code",
   "execution_count": null,
   "id": "b70bbe20",
   "metadata": {},
   "outputs": [],
   "source": [
    "##########################################################################################################################"
   ]
  },
  {
   "cell_type": "code",
   "execution_count": 14,
   "id": "59c6793b",
   "metadata": {},
   "outputs": [],
   "source": [
    "UtilityMatrix = reviews_filtered.pivot(index='recipe_id', columns= 'user_id', values='rating')\n",
    "UtilityMatrix = UtilityMatrix.fillna(0)"
   ]
  },
  {
   "cell_type": "code",
   "execution_count": null,
   "id": "f2f5a68f",
   "metadata": {},
   "outputs": [],
   "source": [
    "##########################################################################################################################"
   ]
  },
  {
   "cell_type": "code",
   "execution_count": 15,
   "id": "a3beb5ee",
   "metadata": {},
   "outputs": [
    {
     "data": {
      "text/html": [
       "<div>\n",
       "<style scoped>\n",
       "    .dataframe tbody tr th:only-of-type {\n",
       "        vertical-align: middle;\n",
       "    }\n",
       "\n",
       "    .dataframe tbody tr th {\n",
       "        vertical-align: top;\n",
       "    }\n",
       "\n",
       "    .dataframe thead th {\n",
       "        text-align: right;\n",
       "    }\n",
       "</style>\n",
       "<table border=\"1\" class=\"dataframe\">\n",
       "  <thead>\n",
       "    <tr style=\"text-align: right;\">\n",
       "      <th></th>\n",
       "      <th>recipe_id</th>\n",
       "    </tr>\n",
       "  </thead>\n",
       "  <tbody>\n",
       "    <tr>\n",
       "      <th>0</th>\n",
       "      <td>49</td>\n",
       "    </tr>\n",
       "    <tr>\n",
       "      <th>1</th>\n",
       "      <td>62</td>\n",
       "    </tr>\n",
       "    <tr>\n",
       "      <th>2</th>\n",
       "      <td>66</td>\n",
       "    </tr>\n",
       "    <tr>\n",
       "      <th>3</th>\n",
       "      <td>142</td>\n",
       "    </tr>\n",
       "    <tr>\n",
       "      <th>4</th>\n",
       "      <td>150</td>\n",
       "    </tr>\n",
       "    <tr>\n",
       "      <th>...</th>\n",
       "      <td>...</td>\n",
       "    </tr>\n",
       "    <tr>\n",
       "      <th>20805</th>\n",
       "      <td>518151</td>\n",
       "    </tr>\n",
       "    <tr>\n",
       "      <th>20806</th>\n",
       "      <td>518229</td>\n",
       "    </tr>\n",
       "    <tr>\n",
       "      <th>20807</th>\n",
       "      <td>522889</td>\n",
       "    </tr>\n",
       "    <tr>\n",
       "      <th>20808</th>\n",
       "      <td>524479</td>\n",
       "    </tr>\n",
       "    <tr>\n",
       "      <th>20809</th>\n",
       "      <td>536119</td>\n",
       "    </tr>\n",
       "  </tbody>\n",
       "</table>\n",
       "<p>20810 rows × 1 columns</p>\n",
       "</div>"
      ],
      "text/plain": [
       "       recipe_id\n",
       "0             49\n",
       "1             62\n",
       "2             66\n",
       "3            142\n",
       "4            150\n",
       "...          ...\n",
       "20805     518151\n",
       "20806     518229\n",
       "20807     522889\n",
       "20808     524479\n",
       "20809     536119\n",
       "\n",
       "[20810 rows x 1 columns]"
      ]
     },
     "execution_count": 15,
     "metadata": {},
     "output_type": "execute_result"
    }
   ],
   "source": [
    "# From utility matrix, Get the unique values in the index and put them in a list\n",
    "\n",
    "recipes_UtilityMatrix = UtilityMatrix.index.unique().tolist()\n",
    "recipes_UtilityMatrix = pd.DataFrame(recipes_UtilityMatrix, columns=['recipe_id'])\n",
    "recipes_UtilityMatrix"
   ]
  },
  {
   "cell_type": "code",
   "execution_count": null,
   "id": "c684e045",
   "metadata": {},
   "outputs": [],
   "source": [
    "#########################################################################################################################"
   ]
  },
  {
   "cell_type": "code",
   "execution_count": 16,
   "id": "c68bbed5",
   "metadata": {
    "scrolled": true
   },
   "outputs": [
    {
     "data": {
      "text/html": [
       "<div>\n",
       "<style scoped>\n",
       "    .dataframe tbody tr th:only-of-type {\n",
       "        vertical-align: middle;\n",
       "    }\n",
       "\n",
       "    .dataframe tbody tr th {\n",
       "        vertical-align: top;\n",
       "    }\n",
       "\n",
       "    .dataframe thead th {\n",
       "        text-align: right;\n",
       "    }\n",
       "</style>\n",
       "<table border=\"1\" class=\"dataframe\">\n",
       "  <thead>\n",
       "    <tr style=\"text-align: right;\">\n",
       "      <th></th>\n",
       "      <th>recipe_id</th>\n",
       "      <th>name_of_recipe</th>\n",
       "    </tr>\n",
       "  </thead>\n",
       "  <tbody>\n",
       "    <tr>\n",
       "      <th>0</th>\n",
       "      <td>49</td>\n",
       "      <td>chicken breasts lombardi</td>\n",
       "    </tr>\n",
       "    <tr>\n",
       "      <th>1</th>\n",
       "      <td>62</td>\n",
       "      <td>black bean  corn  and tomato salad</td>\n",
       "    </tr>\n",
       "    <tr>\n",
       "      <th>2</th>\n",
       "      <td>66</td>\n",
       "      <td>black coffee barbecue sauce</td>\n",
       "    </tr>\n",
       "    <tr>\n",
       "      <th>3</th>\n",
       "      <td>142</td>\n",
       "      <td>almond fudge banana cake</td>\n",
       "    </tr>\n",
       "    <tr>\n",
       "      <th>4</th>\n",
       "      <td>150</td>\n",
       "      <td>all purpose crock pot chicken</td>\n",
       "    </tr>\n",
       "    <tr>\n",
       "      <th>...</th>\n",
       "      <td>...</td>\n",
       "      <td>...</td>\n",
       "    </tr>\n",
       "    <tr>\n",
       "      <th>20805</th>\n",
       "      <td>518151</td>\n",
       "      <td>a 1  pot stickers with chili pineapple dipping...</td>\n",
       "    </tr>\n",
       "    <tr>\n",
       "      <th>20806</th>\n",
       "      <td>518229</td>\n",
       "      <td>charge me up a1 steak   egg veggie breakfast w...</td>\n",
       "    </tr>\n",
       "    <tr>\n",
       "      <th>20807</th>\n",
       "      <td>522889</td>\n",
       "      <td>swiss eggs</td>\n",
       "    </tr>\n",
       "    <tr>\n",
       "      <th>20808</th>\n",
       "      <td>524479</td>\n",
       "      <td>ragu ratatouille hummus plate  ragu</td>\n",
       "    </tr>\n",
       "    <tr>\n",
       "      <th>20809</th>\n",
       "      <td>536119</td>\n",
       "      <td>hawaiian slaw</td>\n",
       "    </tr>\n",
       "  </tbody>\n",
       "</table>\n",
       "<p>20810 rows × 2 columns</p>\n",
       "</div>"
      ],
      "text/plain": [
       "       recipe_id                                     name_of_recipe\n",
       "0             49                           chicken breasts lombardi\n",
       "1             62                 black bean  corn  and tomato salad\n",
       "2             66                        black coffee barbecue sauce\n",
       "3            142                           almond fudge banana cake\n",
       "4            150                      all purpose crock pot chicken\n",
       "...          ...                                                ...\n",
       "20805     518151  a 1  pot stickers with chili pineapple dipping...\n",
       "20806     518229  charge me up a1 steak   egg veggie breakfast w...\n",
       "20807     522889                                         swiss eggs\n",
       "20808     524479                ragu ratatouille hummus plate  ragu\n",
       "20809     536119                                      hawaiian slaw\n",
       "\n",
       "[20810 rows x 2 columns]"
      ]
     },
     "execution_count": 16,
     "metadata": {},
     "output_type": "execute_result"
    }
   ],
   "source": [
    "# Concatenate DataFrames based on 'key_column' while including values from both DataFrames\n",
    "\n",
    "recipes_UtilityMatrix =  pd.merge(   recipes_UtilityMatrix,   recipes_id,    on='recipe_id',   how='inner'  )\n",
    "recipes_UtilityMatrix"
   ]
  },
  {
   "cell_type": "code",
   "execution_count": null,
   "id": "4759af4e",
   "metadata": {},
   "outputs": [],
   "source": [
    "###########################################################################################################################\n",
    "###########################################################################################################################\n",
    "###########################################################################################################################\n",
    "###########################################################################################################################\n",
    "###########################################################################################################################\n",
    "###########################################################################################################################\n",
    "###########################################################################################################################"
   ]
  },
  {
   "cell_type": "markdown",
   "id": "47f6462e",
   "metadata": {},
   "source": [
    "# HERE"
   ]
  },
  {
   "cell_type": "code",
   "execution_count": null,
   "id": "05c27fe3",
   "metadata": {},
   "outputs": [],
   "source": [
    "###########################################################################################################################\n",
    "###########################################################################################################################\n",
    "###########################################################################################################################\n",
    "###########################################################################################################################\n",
    "###########################################################################################################################\n",
    "###########################################################################################################################\n",
    "###########################################################################################################################"
   ]
  },
  {
   "cell_type": "code",
   "execution_count": 17,
   "id": "cbaded52",
   "metadata": {},
   "outputs": [],
   "source": [
    "num_recipes        =   recipes_UtilityMatrix.shape[0]\n",
    "my_recipes_review  =   np.zeros( num_recipes )"
   ]
  },
  {
   "cell_type": "markdown",
   "id": "36869693",
   "metadata": {},
   "source": [
    "## INTRODUCE YOUR RECIPE REVIEWS  HERE<br>\n",
    "1.- Check the data frame titled **recipes_UtilityMatrix** <br>\n",
    "2.- **Find** the name of the recipe you want to review; and **log** its corresponding **index number**<br>\n",
    "\n",
    "    \n",
    "**Example:**<br>\n",
    "\n",
    "1. **Recipe Name:** _\"almond fudge banana cake\"_<br> \n",
    "2. **Index ID:** \"3\"\n",
    "\n",
    "**In order to add a review of 5 to this recipe, introduce:**<br>\n",
    "\n",
    "**my_recipes_review[3]      =**    5 \n",
    "    \n",
    "    \n"
   ]
  },
  {
   "cell_type": "code",
   "execution_count": 18,
   "id": "8084282a",
   "metadata": {},
   "outputs": [
    {
     "data": {
      "text/html": [
       "<div>\n",
       "<style scoped>\n",
       "    .dataframe tbody tr th:only-of-type {\n",
       "        vertical-align: middle;\n",
       "    }\n",
       "\n",
       "    .dataframe tbody tr th {\n",
       "        vertical-align: top;\n",
       "    }\n",
       "\n",
       "    .dataframe thead th {\n",
       "        text-align: right;\n",
       "    }\n",
       "</style>\n",
       "<table border=\"1\" class=\"dataframe\">\n",
       "  <thead>\n",
       "    <tr style=\"text-align: right;\">\n",
       "      <th></th>\n",
       "      <th>recipe_id</th>\n",
       "      <th>name_of_recipe</th>\n",
       "    </tr>\n",
       "  </thead>\n",
       "  <tbody>\n",
       "    <tr>\n",
       "      <th>0</th>\n",
       "      <td>49</td>\n",
       "      <td>chicken breasts lombardi</td>\n",
       "    </tr>\n",
       "    <tr>\n",
       "      <th>1</th>\n",
       "      <td>62</td>\n",
       "      <td>black bean  corn  and tomato salad</td>\n",
       "    </tr>\n",
       "    <tr>\n",
       "      <th>2</th>\n",
       "      <td>66</td>\n",
       "      <td>black coffee barbecue sauce</td>\n",
       "    </tr>\n",
       "    <tr>\n",
       "      <th>3</th>\n",
       "      <td>142</td>\n",
       "      <td>almond fudge banana cake</td>\n",
       "    </tr>\n",
       "    <tr>\n",
       "      <th>4</th>\n",
       "      <td>150</td>\n",
       "      <td>all purpose crock pot chicken</td>\n",
       "    </tr>\n",
       "    <tr>\n",
       "      <th>...</th>\n",
       "      <td>...</td>\n",
       "      <td>...</td>\n",
       "    </tr>\n",
       "    <tr>\n",
       "      <th>20805</th>\n",
       "      <td>518151</td>\n",
       "      <td>a 1  pot stickers with chili pineapple dipping...</td>\n",
       "    </tr>\n",
       "    <tr>\n",
       "      <th>20806</th>\n",
       "      <td>518229</td>\n",
       "      <td>charge me up a1 steak   egg veggie breakfast w...</td>\n",
       "    </tr>\n",
       "    <tr>\n",
       "      <th>20807</th>\n",
       "      <td>522889</td>\n",
       "      <td>swiss eggs</td>\n",
       "    </tr>\n",
       "    <tr>\n",
       "      <th>20808</th>\n",
       "      <td>524479</td>\n",
       "      <td>ragu ratatouille hummus plate  ragu</td>\n",
       "    </tr>\n",
       "    <tr>\n",
       "      <th>20809</th>\n",
       "      <td>536119</td>\n",
       "      <td>hawaiian slaw</td>\n",
       "    </tr>\n",
       "  </tbody>\n",
       "</table>\n",
       "<p>20810 rows × 2 columns</p>\n",
       "</div>"
      ],
      "text/plain": [
       "       recipe_id                                     name_of_recipe\n",
       "0             49                           chicken breasts lombardi\n",
       "1             62                 black bean  corn  and tomato salad\n",
       "2             66                        black coffee barbecue sauce\n",
       "3            142                           almond fudge banana cake\n",
       "4            150                      all purpose crock pot chicken\n",
       "...          ...                                                ...\n",
       "20805     518151  a 1  pot stickers with chili pineapple dipping...\n",
       "20806     518229  charge me up a1 steak   egg veggie breakfast w...\n",
       "20807     522889                                         swiss eggs\n",
       "20808     524479                ragu ratatouille hummus plate  ragu\n",
       "20809     536119                                      hawaiian slaw\n",
       "\n",
       "[20810 rows x 2 columns]"
      ]
     },
     "execution_count": 18,
     "metadata": {},
     "output_type": "execute_result"
    }
   ],
   "source": [
    "recipes_UtilityMatrix"
   ]
  },
  {
   "cell_type": "markdown",
   "id": "723569bc",
   "metadata": {},
   "source": [
    "## Add your Review HERE<br>\n",
    "In a scale from **1 to 5**\n",
    "- **1=** Least you enoyed \n",
    "- **5=** Most  you enjoyed"
   ]
  },
  {
   "cell_type": "code",
   "execution_count": 19,
   "id": "0f80367e",
   "metadata": {
    "scrolled": true
   },
   "outputs": [
    {
     "data": {
      "text/plain": [
       "recipe_id                              142\n",
       "name_of_recipe    almond fudge banana cake\n",
       "Name: 3, dtype: object"
      ]
     },
     "execution_count": 19,
     "metadata": {},
     "output_type": "execute_result"
    }
   ],
   "source": [
    "recipes_UtilityMatrix.iloc[3]"
   ]
  },
  {
   "cell_type": "code",
   "execution_count": 20,
   "id": "9b779067",
   "metadata": {},
   "outputs": [],
   "source": [
    "\n",
    "#  Introduce Recipe Index       Review              Recipe Name\n",
    "\n",
    "my_recipes_review[3]            =  5          #  almond fudge banana cake\n",
    "\n",
    "\n",
    "my_recipes_review[7]            =  3          #  chicken pot pie lasagna\n",
    "my_recipes_review[12]           =  2          #  chicken fried brown rice                                    \n",
    "my_recipes_review[5207]         =  4          #  sesame sunflower poppy flax seed buttermilk bread                          \n",
    "my_recipes_review[7777]         =  3          #  eloise s easy sugar cookies         \n",
    "my_recipes_review[9093]         =  5          #  mexi cashews                                        \n",
    "my_recipes_review[11457]        =  2          #  homemade flour tortillas                         \n",
    "my_recipes_review[12123]        =  5          #  gingerbread truffles                   \n",
    "my_recipes_review[15003]        =  1          #  vegan soft sugar cookies               \n",
    "my_recipes_review[17782]        =  3          #  light italian feta omelet                            \n",
    "my_recipes_review[20001]        =  4          #  bananas and milk                                                            \n",
    "my_recipes_review[20808]        =  3          #  ragu ratatouille hummus plate  ragu                                      "
   ]
  },
  {
   "cell_type": "code",
   "execution_count": 21,
   "id": "d24e68a4",
   "metadata": {},
   "outputs": [
    {
     "name": "stdout",
     "output_type": "stream",
     "text": [
      "\n",
      "My Reviews:\n",
      "\n",
      "I Reviewed:  5.0      to Recipe:  almond fudge banana cake\n",
      "I Reviewed:  3.0      to Recipe:  chicken pot pie lasagna\n",
      "I Reviewed:  2.0      to Recipe:  chicken fried brown rice\n",
      "I Reviewed:  4.0      to Recipe:  sesame sunflower poppy flax seed buttermilk bread\n",
      "I Reviewed:  3.0      to Recipe:  eloise s easy sugar cookies\n",
      "I Reviewed:  5.0      to Recipe:  mexi cashews\n",
      "I Reviewed:  2.0      to Recipe:  homemade flour tortillas\n",
      "I Reviewed:  5.0      to Recipe:  gingerbread truffles\n",
      "I Reviewed:  1.0      to Recipe:  vegan soft sugar cookies\n",
      "I Reviewed:  3.0      to Recipe:  light italian feta omelet\n",
      "I Reviewed:  4.0      to Recipe:  bananas and milk\n",
      "I Reviewed:  3.0      to Recipe:  ragu ratatouille hummus plate  ragu\n"
     ]
    }
   ],
   "source": [
    "print('\\nMy Reviews:\\n')\n",
    "for i in range(len(my_recipes_review)):\n",
    "    if my_recipes_review[i] > 0 :\n",
    "        print(f'I Reviewed:  {my_recipes_review[i]}      to Recipe:  {recipes_UtilityMatrix.loc[i,\"name_of_recipe\"]}');"
   ]
  },
  {
   "cell_type": "code",
   "execution_count": 22,
   "id": "baafa748",
   "metadata": {},
   "outputs": [],
   "source": [
    "#  It will create a new list my_index_reviewed that contains \n",
    "#  the indices of the recipes in my_recipes_review \n",
    "#  that have a rating number\n",
    "\n",
    "my_index_reviewed = [i for i in range(len(my_recipes_review)) if my_recipes_review[i] > 0] "
   ]
  },
  {
   "cell_type": "markdown",
   "id": "e6853150",
   "metadata": {},
   "source": [
    "## Update Utility Matrix<br>\n",
    "YOUR Rersonal Reviews are added to the Utility Matrix"
   ]
  },
  {
   "cell_type": "code",
   "execution_count": null,
   "id": "340cead5",
   "metadata": {},
   "outputs": [],
   "source": [
    "######################################################################################################"
   ]
  },
  {
   "cell_type": "code",
   "execution_count": 23,
   "id": "d148aa13",
   "metadata": {},
   "outputs": [],
   "source": [
    "UtilityMatrix_Reviewed = UtilityMatrix.astype(bool)\n",
    "UtilityMatrix_Reviewed = UtilityMatrix_Reviewed.astype(int)"
   ]
  },
  {
   "cell_type": "code",
   "execution_count": 24,
   "id": "8ecc1146",
   "metadata": {},
   "outputs": [],
   "source": [
    "UtilityMatrix          =  UtilityMatrix.to_numpy()\n",
    "UtilityMatrix_Reviewed =  UtilityMatrix_Reviewed.to_numpy()"
   ]
  },
  {
   "cell_type": "code",
   "execution_count": null,
   "id": "2d8935b3",
   "metadata": {},
   "outputs": [],
   "source": [
    "######################################################################################################"
   ]
  },
  {
   "cell_type": "code",
   "execution_count": null,
   "id": "e2074393",
   "metadata": {},
   "outputs": [],
   "source": [
    "# Add new Reviews to the existing utility matrix"
   ]
  },
  {
   "cell_type": "code",
   "execution_count": 25,
   "id": "714ad4c2",
   "metadata": {},
   "outputs": [],
   "source": [
    "UtilityMatrix          = np.c_[ my_recipes_review, UtilityMatrix ]\n",
    "UtilityMatrix_Reviewed = np.c_[ (my_recipes_review != 0).astype(int), UtilityMatrix_Reviewed ]"
   ]
  },
  {
   "cell_type": "markdown",
   "id": "10724854",
   "metadata": {},
   "source": [
    "## Normalize Utility Matrix<br>\n",
    "Mean is subrtracted from actual Utility Matrix to normalize values"
   ]
  },
  {
   "cell_type": "code",
   "execution_count": null,
   "id": "83fcb019",
   "metadata": {},
   "outputs": [],
   "source": [
    "######################################################################################################"
   ]
  },
  {
   "cell_type": "code",
   "execution_count": 26,
   "id": "8af5566a",
   "metadata": {},
   "outputs": [],
   "source": [
    "# Calculate the average rating review for each recipe row\n",
    "# Normalize the Dataset\n",
    "\n",
    "mean_recipe              =  (np.sum(UtilityMatrix*UtilityMatrix_Reviewed,axis=1)/(np.sum(UtilityMatrix_Reviewed, axis=1)+1e-12)).reshape(-1,1)\n",
    "normalized_UtilityMatrix =  UtilityMatrix - np.multiply(mean_recipe, UtilityMatrix_Reviewed)    "
   ]
  },
  {
   "cell_type": "markdown",
   "id": "06a209fa",
   "metadata": {},
   "source": [
    "## Save Files<br> "
   ]
  },
  {
   "cell_type": "code",
   "execution_count": null,
   "id": "b8c5b98e",
   "metadata": {},
   "outputs": [],
   "source": [
    "######################################################################################################"
   ]
  },
  {
   "cell_type": "code",
   "execution_count": 27,
   "id": "cf21725f",
   "metadata": {},
   "outputs": [],
   "source": [
    "my_recipes_review = pd.DataFrame(my_recipes_review)\n",
    "my_recipes_review.to_csv('my_recipes_review.csv',index= False)\n",
    "\n",
    "recipes_UtilityMatrix = pd.DataFrame(recipes_UtilityMatrix)\n",
    "recipes_UtilityMatrix.to_csv('recipes_UtilityMatrix.csv',index= False)\n",
    "\n",
    "my_index_reviewed = pd.DataFrame(my_index_reviewed)\n",
    "my_index_reviewed.to_csv('my_index_reviewed.csv',index= False)\n",
    "\n",
    "mean_recipe = pd.DataFrame(mean_recipe)\n",
    "mean_recipe.to_csv('mean_recipe.csv',index= False)\n",
    "###########################################################################################################################"
   ]
  },
  {
   "cell_type": "code",
   "execution_count": 28,
   "id": "ffb2473d",
   "metadata": {},
   "outputs": [],
   "source": [
    "# It may take some time\n",
    "\n",
    "UtilityMatrix_Reviewed = np.transpose(UtilityMatrix_Reviewed)\n",
    "UtilityMatrix_Reviewed = pd.DataFrame(UtilityMatrix_Reviewed)\n",
    "UtilityMatrix_Reviewed.to_csv('UtilityMatrix_Reviewed.csv',index= False, chunksize=1000)"
   ]
  },
  {
   "cell_type": "code",
   "execution_count": 29,
   "id": "1192993d",
   "metadata": {},
   "outputs": [],
   "source": [
    "# It may take some time\n",
    "\n",
    "UtilityMatrix = np.transpose(UtilityMatrix)\n",
    "UtilityMatrix = pd.DataFrame(UtilityMatrix)\n",
    "UtilityMatrix.to_csv('UtilityMatrix.csv',index= False, chunksize=1000)"
   ]
  },
  {
   "cell_type": "code",
   "execution_count": 30,
   "id": "3872a6b9",
   "metadata": {},
   "outputs": [],
   "source": [
    "# It may take some time\n",
    "\n",
    "normalized_UtilityMatrix  = np.transpose(normalized_UtilityMatrix )\n",
    "normalized_UtilityMatrix  = pd.DataFrame(normalized_UtilityMatrix )\n",
    "normalized_UtilityMatrix .to_csv('normalized_UtilityMatrix .csv',index= False, chunksize=1000)"
   ]
  },
  {
   "cell_type": "code",
   "execution_count": null,
   "id": "588b9fbe",
   "metadata": {},
   "outputs": [],
   "source": [
    "###########################################################################################################################"
   ]
  },
  {
   "cell_type": "code",
   "execution_count": null,
   "id": "65ac5ab6",
   "metadata": {},
   "outputs": [],
   "source": [
    "###########################################################################################################################"
   ]
  },
  {
   "cell_type": "code",
   "execution_count": null,
   "id": "2c4aecde",
   "metadata": {},
   "outputs": [],
   "source": [
    "###########################################################################################################################"
   ]
  },
  {
   "cell_type": "markdown",
   "id": "6a544d91",
   "metadata": {},
   "source": [
    "# Continue with TRAINING notebook"
   ]
  }
 ],
 "metadata": {
  "kernelspec": {
   "display_name": "neural_networks_env",
   "language": "python",
   "name": "neural_networks_env"
  },
  "language_info": {
   "codemirror_mode": {
    "name": "ipython",
    "version": 3
   },
   "file_extension": ".py",
   "mimetype": "text/x-python",
   "name": "python",
   "nbconvert_exporter": "python",
   "pygments_lexer": "ipython3",
   "version": "3.10.13"
  }
 },
 "nbformat": 4,
 "nbformat_minor": 5
}
