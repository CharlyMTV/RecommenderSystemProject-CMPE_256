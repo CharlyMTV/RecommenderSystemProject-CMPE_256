{
 "cells": [
  {
   "cell_type": "markdown",
   "id": "faab858c",
   "metadata": {},
   "source": [
    "# 2.- MODEL TRAINING<br>\n",
    "In this notebook, the COST FUCNTION for the ML is definied using tensorflow, and MATRIX FACTORIZATION parameters are computed using GRADIENT DESCENT "
   ]
  },
  {
   "cell_type": "markdown",
   "id": "209b7b74",
   "metadata": {},
   "source": [
    "## Libraries"
   ]
  },
  {
   "cell_type": "code",
   "execution_count": null,
   "id": "77046735",
   "metadata": {},
   "outputs": [],
   "source": [
    "##########################################################################################################################"
   ]
  },
  {
   "cell_type": "code",
   "execution_count": 1,
   "id": "0c41f9a5",
   "metadata": {},
   "outputs": [],
   "source": [
    "import sys\n",
    "import numpy\n",
    "import numpy        as     np\n",
    "import pandas       as     pd\n",
    "import tensorflow   as     tf\n",
    "from   tensorflow   import keras\n",
    "\n",
    "numpy.set_printoptions(threshold=20)"
   ]
  },
  {
   "cell_type": "markdown",
   "id": "0ec0e0af",
   "metadata": {},
   "source": [
    "## Import Information"
   ]
  },
  {
   "cell_type": "code",
   "execution_count": null,
   "id": "7822985d",
   "metadata": {},
   "outputs": [],
   "source": [
    "###########################################################################################################################"
   ]
  },
  {
   "cell_type": "code",
   "execution_count": 2,
   "id": "674407dd",
   "metadata": {},
   "outputs": [],
   "source": [
    "# It may take some time\n",
    "\n",
    "normalized_UtilityMatrix   =  pd.read_csv  ('normalized_UtilityMatrix .csv') \n",
    "UtilityMatrix_Reviewed     =  pd.read_csv  ('UtilityMatrix_Reviewed.csv'   )\n",
    "my_index_reviewed          =  pd.read_csv  ('my_index_reviewed.csv'        )\n",
    "mean_recipe                =  pd.read_csv  ('mean_recipe.csv'              )"
   ]
  },
  {
   "cell_type": "code",
   "execution_count": null,
   "id": "dcb37caa",
   "metadata": {},
   "outputs": [],
   "source": [
    "###########################################################################################################################"
   ]
  },
  {
   "cell_type": "markdown",
   "id": "b773345e",
   "metadata": {},
   "source": [
    "## Define Cost Function<BR>"
   ]
  },
  {
   "cell_type": "code",
   "execution_count": 3,
   "id": "d3fabf3a",
   "metadata": {},
   "outputs": [],
   "source": [
    "def CostFunction(X, W, b, UtilityMatrix, UtilityMatrix_Reviewed, lambda_):\n",
    "\n",
    "    j = (tf.linalg.matmul(X, tf.transpose(W)) + b - UtilityMatrix)*UtilityMatrix_Reviewed\n",
    "    J = 0.5 * tf.reduce_sum(j**2) + (lambda_/2) * (tf.reduce_sum(X**2) + tf.reduce_sum(W**2))\n",
    "    \n",
    "    return J"
   ]
  },
  {
   "cell_type": "code",
   "execution_count": 4,
   "id": "92a8179b",
   "metadata": {},
   "outputs": [],
   "source": [
    "normalized_UtilityMatrix   =  normalized_UtilityMatrix.transpose()\n",
    "UtilityMatrix_Reviewed     =  UtilityMatrix_Reviewed.transpose()"
   ]
  },
  {
   "cell_type": "code",
   "execution_count": 5,
   "id": "bddb22f1",
   "metadata": {},
   "outputs": [],
   "source": [
    "my_index_reviewed          =  my_index_reviewed['0'].tolist()\n",
    "normalized_UtilityMatrix   =  normalized_UtilityMatrix.to_numpy()\n",
    "UtilityMatrix_Reviewed     =  UtilityMatrix_Reviewed.to_numpy()\n",
    "mean_recipe                =  mean_recipe.to_numpy()"
   ]
  },
  {
   "cell_type": "code",
   "execution_count": 6,
   "id": "e3041f6f",
   "metadata": {},
   "outputs": [],
   "source": [
    "#  We set the number of features to 100 \n",
    "\n",
    "num_recipes, num_users = normalized_UtilityMatrix.shape\n",
    "num_features           = 100\n",
    "\n",
    "\n",
    "# for consistent results\n",
    "\n",
    "tf.random.set_seed(1234)  \n",
    "\n",
    "# Set Initial Parameters (W, X), use tf.Variable to track these variables\n",
    "\n",
    "W = tf.Variable(tf.random.normal ( (  num_users,  num_features),  dtype=tf.float64),  name='W')\n",
    "X = tf.Variable(tf.random.normal ( (num_recipes,  num_features),  dtype=tf.float64),  name='X')\n",
    "b = tf.Variable(tf.random.normal ( (          1,     num_users),  dtype=tf.float64),  name='b')\n",
    "\n",
    "# Instantiate an optimizer.\n",
    "\n",
    "optimizer = keras.optimizers.Adam(learning_rate=1e-1)"
   ]
  },
  {
   "cell_type": "markdown",
   "id": "832d7d98",
   "metadata": {},
   "source": [
    "## MATRIX FACTORIZATION Parameters Calculation <br>\n",
    "-    Code adaptation from https://aman.ai/recsys/candidate-gen/\n",
    "- Computation takes around 20 minutes in my computer"
   ]
  },
  {
   "cell_type": "code",
   "execution_count": 7,
   "id": "6ab30424",
   "metadata": {},
   "outputs": [
    {
     "name": "stdout",
     "output_type": "stream",
     "text": [
      "Training loss at iteration 0: 22707855.4\n",
      "Training loss at iteration 20: 1295055.1\n",
      "Training loss at iteration 40: 574151.5\n",
      "Training loss at iteration 60: 290785.1\n",
      "Training loss at iteration 80: 161837.6\n",
      "Training loss at iteration 100: 97321.2\n"
     ]
    }
   ],
   "source": [
    "iterations = 120     \n",
    "lambda_    = 1\n",
    "\n",
    "for iter in range(iterations):\n",
    "    \n",
    "    # Use TensorFlow’s GradientTape\n",
    "    # to record the operations used to compute the cost \n",
    "    \n",
    "    with tf.GradientTape() as tape:\n",
    "\n",
    "        # Compute the cost (forward pass included in cost)\n",
    "        \n",
    "        loss = CostFunction(X, W, b, normalized_UtilityMatrix, UtilityMatrix_Reviewed, lambda_)\n",
    "\n",
    "    # Use the gradient tape to automatically retrieve\n",
    "    # the gradients of the trainable variables with respect to the loss\n",
    "    \n",
    "    grads = tape.gradient( loss, [X,W,b] )\n",
    "\n",
    "    # Run one step of gradient descent by updating\n",
    "    # the value of the variables to minimize the loss.\n",
    "    \n",
    "    optimizer.apply_gradients( zip(grads, [X,W,b]) )\n",
    "\n",
    "    # Print the training loss every 20 iterations \n",
    "    if iter % 20 == 0:\n",
    "        print(f\"Training loss at iteration {iter}: {loss:0.1f}\")"
   ]
  },
  {
   "cell_type": "markdown",
   "id": "1e0563a4",
   "metadata": {},
   "source": [
    "## Matrix Factors<br>\n",
    "- **W** Factors corresponding to Recipes\n",
    "- **X & b** Factors corresponding to Users"
   ]
  },
  {
   "cell_type": "code",
   "execution_count": 8,
   "id": "1e2104c7",
   "metadata": {},
   "outputs": [],
   "source": [
    "W = np.transpose(W.numpy())\n",
    "X = X.numpy()\n",
    "b = b.numpy()"
   ]
  },
  {
   "cell_type": "markdown",
   "id": "1a639313",
   "metadata": {},
   "source": [
    "## Matrix Factors only for the USER are Extracted"
   ]
  },
  {
   "cell_type": "code",
   "execution_count": 9,
   "id": "d43053d2",
   "metadata": {},
   "outputs": [],
   "source": [
    "# Extract from Matrix Factorization, the factors to predict User's Reviews\n",
    "\n",
    "W_myReview = W[:,0]\n",
    "b_myReview = b[:,0].reshape(-1,1)"
   ]
  },
  {
   "cell_type": "markdown",
   "id": "daa5ae38",
   "metadata": {},
   "source": [
    "## Save Files "
   ]
  },
  {
   "cell_type": "code",
   "execution_count": 10,
   "id": "b1e3445e",
   "metadata": {},
   "outputs": [],
   "source": [
    "##########################################################################################################################"
   ]
  },
  {
   "cell_type": "code",
   "execution_count": 11,
   "id": "6b64c7e0",
   "metadata": {},
   "outputs": [],
   "source": [
    "# X constains all factors corresponding to the Recipe Matrix\n",
    "\n",
    "X = pd.DataFrame(X)\n",
    "X.to_csv('X.csv',index= False)\n",
    "\n",
    "# W_myRevies contains the factors plus the bias b_myReview corresponding to The User Matrix\n",
    "\n",
    "W_myReview = pd.DataFrame(W_myReview)\n",
    "W_myReview.to_csv('W_myReview.csv',index= False)\n",
    "\n",
    "b_myReview = pd.DataFrame(b_myReview)\n",
    "b_myReview.to_csv('b_myReview.csv',index= False)"
   ]
  },
  {
   "cell_type": "code",
   "execution_count": null,
   "id": "0a340b7d",
   "metadata": {},
   "outputs": [],
   "source": [
    "##########################################################################################################################"
   ]
  },
  {
   "cell_type": "code",
   "execution_count": null,
   "id": "fc666945",
   "metadata": {},
   "outputs": [],
   "source": [
    "##########################################################################################################################"
   ]
  },
  {
   "cell_type": "code",
   "execution_count": null,
   "id": "ff81ce50",
   "metadata": {},
   "outputs": [],
   "source": [
    "##########################################################################################################################"
   ]
  },
  {
   "cell_type": "markdown",
   "id": "dd89aa64",
   "metadata": {},
   "source": [
    "# Continue with PREDICTIONS notebook"
   ]
  }
 ],
 "metadata": {
  "kernelspec": {
   "display_name": "neural_networks_env",
   "language": "python",
   "name": "neural_networks_env"
  },
  "language_info": {
   "codemirror_mode": {
    "name": "ipython",
    "version": 3
   },
   "file_extension": ".py",
   "mimetype": "text/x-python",
   "name": "python",
   "nbconvert_exporter": "python",
   "pygments_lexer": "ipython3",
   "version": "3.10.13"
  }
 },
 "nbformat": 4,
 "nbformat_minor": 5
}
