{
 "cells": [
  {
   "cell_type": "markdown",
   "id": "0b64026d",
   "metadata": {},
   "source": [
    "# 3.- PREDICTIONS"
   ]
  },
  {
   "cell_type": "markdown",
   "id": "3e7020b4",
   "metadata": {},
   "source": [
    "## Libraries"
   ]
  },
  {
   "cell_type": "code",
   "execution_count": null,
   "id": "38ab8633",
   "metadata": {},
   "outputs": [],
   "source": [
    "##########################################################################################################################"
   ]
  },
  {
   "cell_type": "code",
   "execution_count": 1,
   "id": "e9629b3d",
   "metadata": {},
   "outputs": [],
   "source": [
    "import sys\n",
    "import numpy\n",
    "import numpy        as     np\n",
    "import pandas       as     pd\n",
    "import tensorflow   as     tf\n",
    "from   tensorflow   import keras\n",
    "\n",
    "numpy.set_printoptions(threshold=20)"
   ]
  },
  {
   "cell_type": "markdown",
   "id": "96c724b0",
   "metadata": {},
   "source": [
    "## Import Information"
   ]
  },
  {
   "cell_type": "code",
   "execution_count": null,
   "id": "ff81ce50",
   "metadata": {},
   "outputs": [],
   "source": [
    "##########################################################################################################################"
   ]
  },
  {
   "cell_type": "code",
   "execution_count": 2,
   "id": "29687985",
   "metadata": {},
   "outputs": [],
   "source": [
    "chunk_size     =  4162                             # 5 chunks of 4162 rows  =  20810 recipes"
   ]
  },
  {
   "cell_type": "code",
   "execution_count": 3,
   "id": "2a7ec8ef",
   "metadata": {},
   "outputs": [],
   "source": [
    "X              =  pd.read_csv  ( 'X.csv', chunksize = chunk_size )\n",
    "W_myReview     =  pd.read_csv  ( 'W_myReview.csv'                ) \n",
    "b_myReview     =  pd.read_csv  ( 'b_myReview.csv'                ) \n",
    "mean_recipe    =  pd.read_csv  ( 'mean_recipe.csv'               )"
   ]
  },
  {
   "cell_type": "code",
   "execution_count": 4,
   "id": "f67b5ec5",
   "metadata": {},
   "outputs": [],
   "source": [
    "b_myReview  =  b_myReview. to_numpy()\n",
    "W_myReview  =  W_myReview. to_numpy()\n",
    "mean_recipe =  mean_recipe.to_numpy().reshape(-1,1)"
   ]
  },
  {
   "cell_type": "markdown",
   "id": "7ea40874",
   "metadata": {},
   "source": [
    "## Predictions Calculation"
   ]
  },
  {
   "cell_type": "code",
   "execution_count": null,
   "id": "d696b6d0",
   "metadata": {},
   "outputs": [],
   "source": [
    "##########################################################################################################################"
   ]
  },
  {
   "cell_type": "code",
   "execution_count": 5,
   "id": "512f7eee",
   "metadata": {},
   "outputs": [],
   "source": [
    "\n",
    "num_recipes    =  chunk_size\n",
    "num_users      =  W_myReview.shape[1]              # 1 user\n",
    "num_features   =  W_myReview.shape[0]              # 100 features\n",
    "\n",
    "Final_Predic   =  np.empty((0,num_users), dtype=np.float64)"
   ]
  },
  {
   "cell_type": "code",
   "execution_count": 6,
   "id": "c57b31d7",
   "metadata": {},
   "outputs": [
    {
     "name": "stdout",
     "output_type": "stream",
     "text": [
      "Training chunk 1\n",
      "(4162, 1)\n",
      "Training chunk 2\n",
      "(8324, 1)\n",
      "Training chunk 3\n",
      "(12486, 1)\n",
      "Training chunk 4\n",
      "(16648, 1)\n",
      "Training chunk 5\n",
      "(20810, 1)\n"
     ]
    }
   ],
   "source": [
    "num_of_chunks  =  5   # 5 chunks of 4162 = 20810 out of 20810 .......one round\n",
    "chunk_count    =  1\n",
    "\n",
    "for CHUNK_1 in zip(X):\n",
    "    \n",
    "    print(f\"Training chunk {chunk_count}\")\n",
    "    \n",
    "    CHUNK_1 = pd.DataFrame(CHUNK_1[0])\n",
    "    X_chunk_values = CHUNK_1.values\n",
    "      \n",
    "    if chunk_count == num_of_chunks:\n",
    "        \n",
    "        # Handle the last chunk with a different shape\n",
    "\n",
    "        last_chunk_size = CHUNK_1.shape[0]\n",
    "        predictions = np.empty((last_chunk_size, num_users), dtype=np.float64)\n",
    "    \n",
    "    else:\n",
    "        \n",
    "        predictions = np.empty((num_recipes, num_users), dtype=np.float64)\n",
    "     \n",
    "        \n",
    "    predictions = np.matmul(X_chunk_values, W_myReview) + b_myReview\n",
    "    \n",
    "    \n",
    "    \n",
    "    Final_Predic = np.concatenate((Final_Predic, predictions), axis=0)\n",
    "\n",
    "    print(Final_Predic.shape)\n",
    "                             \n",
    "                             \n",
    "                             \n",
    "        \n",
    "    if chunk_count == num_of_chunks:\n",
    "        break\n",
    "    \n",
    "    chunk_count += 1                           "
   ]
  },
  {
   "cell_type": "code",
   "execution_count": null,
   "id": "5c8c463e",
   "metadata": {},
   "outputs": [],
   "source": [
    "##########################################################################################################################"
   ]
  },
  {
   "cell_type": "code",
   "execution_count": 7,
   "id": "a9900fe1",
   "metadata": {},
   "outputs": [],
   "source": [
    "#restore the mean\n",
    "\n",
    "Final_Predic   =  Final_Predic + mean_recipe"
   ]
  },
  {
   "cell_type": "code",
   "execution_count": 8,
   "id": "156ef7b4",
   "metadata": {},
   "outputs": [],
   "source": [
    "my_predictions =  Final_Predic[:,0]"
   ]
  },
  {
   "cell_type": "markdown",
   "id": "3e237d34",
   "metadata": {},
   "source": [
    "## Save Files"
   ]
  },
  {
   "cell_type": "code",
   "execution_count": null,
   "id": "4cccd02c",
   "metadata": {},
   "outputs": [],
   "source": [
    "##########################################################################################################################"
   ]
  },
  {
   "cell_type": "code",
   "execution_count": 9,
   "id": "2eb09ab0",
   "metadata": {},
   "outputs": [],
   "source": [
    "my_predictions =  pd.DataFrame(my_predictions)\n",
    "my_predictions.to_csv('my_predictions.csv',index= False)"
   ]
  },
  {
   "cell_type": "code",
   "execution_count": null,
   "id": "c857489a",
   "metadata": {},
   "outputs": [],
   "source": [
    "##########################################################################################################################"
   ]
  },
  {
   "cell_type": "code",
   "execution_count": null,
   "id": "ec1e3b3f",
   "metadata": {},
   "outputs": [],
   "source": [
    "##########################################################################################################################"
   ]
  },
  {
   "cell_type": "code",
   "execution_count": null,
   "id": "5d4dfa5f",
   "metadata": {},
   "outputs": [],
   "source": [
    "##########################################################################################################################"
   ]
  },
  {
   "cell_type": "markdown",
   "id": "9c138bd2",
   "metadata": {},
   "source": [
    "# Continue with RECOMMENDATIONS notebook"
   ]
  }
 ],
 "metadata": {
  "kernelspec": {
   "display_name": "neural_networks_env",
   "language": "python",
   "name": "neural_networks_env"
  },
  "language_info": {
   "codemirror_mode": {
    "name": "ipython",
    "version": 3
   },
   "file_extension": ".py",
   "mimetype": "text/x-python",
   "name": "python",
   "nbconvert_exporter": "python",
   "pygments_lexer": "ipython3",
   "version": "3.10.13"
  }
 },
 "nbformat": 4,
 "nbformat_minor": 5
}
