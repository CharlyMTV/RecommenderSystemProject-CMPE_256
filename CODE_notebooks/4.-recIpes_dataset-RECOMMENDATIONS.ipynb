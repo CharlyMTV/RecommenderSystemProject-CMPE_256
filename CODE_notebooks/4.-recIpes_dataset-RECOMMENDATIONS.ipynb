{
 "cells": [
  {
   "cell_type": "markdown",
   "id": "a03792cf",
   "metadata": {},
   "source": [
    "# 4.- RECOMMENDATIONS"
   ]
  },
  {
   "cell_type": "markdown",
   "id": "13463d4d",
   "metadata": {},
   "source": [
    "## Libraries"
   ]
  },
  {
   "cell_type": "code",
   "execution_count": null,
   "id": "eaae2ab3",
   "metadata": {},
   "outputs": [],
   "source": [
    "##########################################################################################################################"
   ]
  },
  {
   "cell_type": "code",
   "execution_count": 1,
   "id": "9115689b",
   "metadata": {},
   "outputs": [],
   "source": [
    "import sys\n",
    "import numpy\n",
    "import numpy        as     np\n",
    "import pandas       as     pd\n",
    "import tensorflow   as     tf\n",
    "from   tensorflow   import keras\n",
    "\n",
    "numpy.set_printoptions(threshold=20)"
   ]
  },
  {
   "cell_type": "markdown",
   "id": "d2ef09e8",
   "metadata": {},
   "source": [
    "## Import Information"
   ]
  },
  {
   "cell_type": "code",
   "execution_count": null,
   "id": "e6199d7f",
   "metadata": {},
   "outputs": [],
   "source": [
    "##########################################################################################################################"
   ]
  },
  {
   "cell_type": "code",
   "execution_count": 2,
   "id": "8e5e2ad0",
   "metadata": {},
   "outputs": [],
   "source": [
    "my_predictions          =  pd.read_csv( 'my_predictions.csv'        )\n",
    "my_recipes_review       =  pd.read_csv( 'my_recipes_review.csv'     )\n",
    "my_index_reviewed       =  pd.read_csv( 'my_index_reviewed.csv'     )\n",
    "recipes_UtilityMatrix   =  pd.read_csv( 'recipes_UtilityMatrix.csv' )"
   ]
  },
  {
   "cell_type": "code",
   "execution_count": 3,
   "id": "732a5f69",
   "metadata": {},
   "outputs": [],
   "source": [
    "my_predictions               =  my_predictions.to_numpy()\n",
    "my_predictions               =  np.squeeze(my_predictions)\n",
    "\n",
    "my_recipes_review            =  my_recipes_review.to_numpy()\n",
    "my_index_reviewed            =  my_index_reviewed['0'].tolist()\n",
    "recipes_UtilityMatrix_list   =  recipes_UtilityMatrix['name_of_recipe'].tolist()"
   ]
  },
  {
   "cell_type": "markdown",
   "id": "2a6d13c3",
   "metadata": {},
   "source": [
    "## Predictions"
   ]
  },
  {
   "cell_type": "code",
   "execution_count": null,
   "id": "4c55c9d4",
   "metadata": {},
   "outputs": [],
   "source": [
    "##########################################################################################################################"
   ]
  },
  {
   "cell_type": "code",
   "execution_count": 4,
   "id": "f33a8289",
   "metadata": {},
   "outputs": [],
   "source": [
    "# sort predictions\n",
    "\n",
    "ix  =   tf.argsort(my_predictions, direction='DESCENDING')"
   ]
  },
  {
   "cell_type": "code",
   "execution_count": null,
   "id": "af4791ff",
   "metadata": {},
   "outputs": [],
   "source": [
    "##########################################################################################################################"
   ]
  },
  {
   "cell_type": "code",
   "execution_count": 5,
   "id": "91e26803",
   "metadata": {},
   "outputs": [
    {
     "name": "stdout",
     "output_type": "stream",
     "text": [
      "\n",
      "\n",
      "My Original Reviews          Predicted Reviews             Recipe Name\n",
      "\n",
      "  My Review: [5.]             Predicted: 4.67           almond fudge banana cake\n",
      "  My Review: [3.]             Predicted: 3.09           chicken pot pie lasagna\n",
      "  My Review: [2.]             Predicted: 2.20           chicken fried brown rice\n",
      "  My Review: [4.]             Predicted: 3.90           sesame sunflower poppy flax seed buttermilk bread\n",
      "  My Review: [3.]             Predicted: 3.08           eloise s easy sugar cookies\n",
      "  My Review: [5.]             Predicted: 4.66           mexi cashews\n",
      "  My Review: [2.]             Predicted: 2.20           homemade flour tortillas\n",
      "  My Review: [5.]             Predicted: 4.85           gingerbread truffles\n",
      "  My Review: [1.]             Predicted: 1.32           vegan soft sugar cookies\n",
      "  My Review: [3.]             Predicted: 3.09           light italian feta omelet\n",
      "  My Review: [4.]             Predicted: 3.85           bananas and milk\n",
      "  My Review: [3.]             Predicted: 3.14           ragu ratatouille hummus plate  ragu\n"
     ]
    }
   ],
   "source": [
    "print('\\n\\nMy Original Reviews          Predicted Reviews             Recipe Name\\n')\n",
    "for i in range(len(my_recipes_review)):\n",
    "    if my_recipes_review[i] > 0:\n",
    "        print(f'  My Review: {my_recipes_review[i]}             Predicted: {my_predictions[i]:0.2f}           {recipes_UtilityMatrix_list[i]}')"
   ]
  },
  {
   "cell_type": "markdown",
   "id": "9f873d7a",
   "metadata": {},
   "source": [
    "## Top 12 Recommendations"
   ]
  },
  {
   "cell_type": "code",
   "execution_count": null,
   "id": "a683a9ec",
   "metadata": {},
   "outputs": [],
   "source": [
    "##########################################################################################################################"
   ]
  },
  {
   "cell_type": "code",
   "execution_count": 6,
   "id": "39efe015",
   "metadata": {
    "scrolled": true
   },
   "outputs": [
    {
     "name": "stdout",
     "output_type": "stream",
     "text": [
      "\n",
      "Based on Your Personal Reviews\n",
      "\n",
      "\n",
      "Top 12 Recommended Recipes:\n",
      "\n",
      "Predicted Review:   5.86       Recipe:  andes chocolate mint cookies\n",
      "Predicted Review:   5.22       Recipe:  wonderful roasted prime rib\n",
      "Predicted Review:   5.18       Recipe:  easy banana muffins\n",
      "Predicted Review:   5.12       Recipe:  broccoli  sausage and pasta ears\n",
      "Predicted Review:   5.10       Recipe:  marshmallow fondant\n",
      "Predicted Review:   5.06       Recipe:  50  whole wheat bread\n",
      "Predicted Review:   5.06       Recipe:  white fish in herbed butter\n",
      "Predicted Review:   5.03       Recipe:  oriental mini meatloaves with honey garlic sauce\n",
      "Predicted Review:   5.01       Recipe:  perfect soft boiled eggs\n",
      "Predicted Review:   4.96       Recipe:  creamy corn salad\n",
      "Predicted Review:   4.93       Recipe:  tropical coconut bread\n",
      "Predicted Review:   4.93       Recipe:  croutons\n"
     ]
    }
   ],
   "source": [
    "print('\\nBased on Your Personal Reviews\\n')\n",
    "print('\\nTop 12 Recommended Recipes:\\n')\n",
    "for i in range(12):\n",
    "    j = ix[i]\n",
    "    if j not in my_index_reviewed:\n",
    "        print(f'Predicted Review:   {my_predictions[j]:0.2f}       Recipe:  {recipes_UtilityMatrix_list[j]}')"
   ]
  },
  {
   "cell_type": "markdown",
   "id": "08f90d6e",
   "metadata": {},
   "source": [
    "## Different PREDICTIONS"
   ]
  },
  {
   "cell_type": "markdown",
   "id": "0f56cb08",
   "metadata": {},
   "source": [
    "### Do you want to know how much will you enjoy a RECIPE you've  never tried before?<br> \n",
    "    1. introduce the Index of the Recipe below"
   ]
  },
  {
   "cell_type": "code",
   "execution_count": 7,
   "id": "0a06e177",
   "metadata": {},
   "outputs": [
    {
     "data": {
      "text/html": [
       "<div>\n",
       "<style scoped>\n",
       "    .dataframe tbody tr th:only-of-type {\n",
       "        vertical-align: middle;\n",
       "    }\n",
       "\n",
       "    .dataframe tbody tr th {\n",
       "        vertical-align: top;\n",
       "    }\n",
       "\n",
       "    .dataframe thead th {\n",
       "        text-align: right;\n",
       "    }\n",
       "</style>\n",
       "<table border=\"1\" class=\"dataframe\">\n",
       "  <thead>\n",
       "    <tr style=\"text-align: right;\">\n",
       "      <th></th>\n",
       "      <th>recipe_id</th>\n",
       "      <th>name_of_recipe</th>\n",
       "    </tr>\n",
       "  </thead>\n",
       "  <tbody>\n",
       "    <tr>\n",
       "      <th>0</th>\n",
       "      <td>49</td>\n",
       "      <td>chicken breasts lombardi</td>\n",
       "    </tr>\n",
       "    <tr>\n",
       "      <th>1</th>\n",
       "      <td>62</td>\n",
       "      <td>black bean  corn  and tomato salad</td>\n",
       "    </tr>\n",
       "    <tr>\n",
       "      <th>2</th>\n",
       "      <td>66</td>\n",
       "      <td>black coffee barbecue sauce</td>\n",
       "    </tr>\n",
       "    <tr>\n",
       "      <th>3</th>\n",
       "      <td>142</td>\n",
       "      <td>almond fudge banana cake</td>\n",
       "    </tr>\n",
       "    <tr>\n",
       "      <th>4</th>\n",
       "      <td>150</td>\n",
       "      <td>all purpose crock pot chicken</td>\n",
       "    </tr>\n",
       "    <tr>\n",
       "      <th>...</th>\n",
       "      <td>...</td>\n",
       "      <td>...</td>\n",
       "    </tr>\n",
       "    <tr>\n",
       "      <th>20805</th>\n",
       "      <td>518151</td>\n",
       "      <td>a 1  pot stickers with chili pineapple dipping...</td>\n",
       "    </tr>\n",
       "    <tr>\n",
       "      <th>20806</th>\n",
       "      <td>518229</td>\n",
       "      <td>charge me up a1 steak   egg veggie breakfast w...</td>\n",
       "    </tr>\n",
       "    <tr>\n",
       "      <th>20807</th>\n",
       "      <td>522889</td>\n",
       "      <td>swiss eggs</td>\n",
       "    </tr>\n",
       "    <tr>\n",
       "      <th>20808</th>\n",
       "      <td>524479</td>\n",
       "      <td>ragu ratatouille hummus plate  ragu</td>\n",
       "    </tr>\n",
       "    <tr>\n",
       "      <th>20809</th>\n",
       "      <td>536119</td>\n",
       "      <td>hawaiian slaw</td>\n",
       "    </tr>\n",
       "  </tbody>\n",
       "</table>\n",
       "<p>20810 rows × 2 columns</p>\n",
       "</div>"
      ],
      "text/plain": [
       "       recipe_id                                     name_of_recipe\n",
       "0             49                           chicken breasts lombardi\n",
       "1             62                 black bean  corn  and tomato salad\n",
       "2             66                        black coffee barbecue sauce\n",
       "3            142                           almond fudge banana cake\n",
       "4            150                      all purpose crock pot chicken\n",
       "...          ...                                                ...\n",
       "20805     518151  a 1  pot stickers with chili pineapple dipping...\n",
       "20806     518229  charge me up a1 steak   egg veggie breakfast w...\n",
       "20807     522889                                         swiss eggs\n",
       "20808     524479                ragu ratatouille hummus plate  ragu\n",
       "20809     536119                                      hawaiian slaw\n",
       "\n",
       "[20810 rows x 2 columns]"
      ]
     },
     "execution_count": 7,
     "metadata": {},
     "output_type": "execute_result"
    }
   ],
   "source": [
    "\n",
    "recipes_UtilityMatrix"
   ]
  },
  {
   "cell_type": "markdown",
   "id": "1fb162af",
   "metadata": {},
   "source": [
    "### I want to know how much I may enjoy \"biscuits and gravy\" recipe"
   ]
  },
  {
   "cell_type": "code",
   "execution_count": 8,
   "id": "85c169d8",
   "metadata": {},
   "outputs": [
    {
     "data": {
      "text/plain": [
       "recipe_id                      16152\n",
       "name_of_recipe    biscuits and gravy\n",
       "Name: 1212, dtype: object"
      ]
     },
     "execution_count": 8,
     "metadata": {},
     "output_type": "execute_result"
    }
   ],
   "source": [
    "Recipe_Index=   1212\n",
    "\n",
    "recipes_UtilityMatrix.iloc[Recipe_Index]"
   ]
  },
  {
   "cell_type": "code",
   "execution_count": 9,
   "id": "18a975fb",
   "metadata": {
    "scrolled": true
   },
   "outputs": [
    {
     "name": "stdout",
     "output_type": "stream",
     "text": [
      "\n",
      "\n",
      "Recipe Name:            biscuits and gravy \n",
      "Enojoyment Level:       3.45  \n",
      "  \n"
     ]
    }
   ],
   "source": [
    "\n",
    "print(f'\\n\\nRecipe Name:            {recipes_UtilityMatrix_list[Recipe_Index]} \\nEnojoyment Level:       {my_predictions[Recipe_Index]:0.2f}  \\n  ')"
   ]
  },
  {
   "cell_type": "code",
   "execution_count": null,
   "id": "7df3f15e",
   "metadata": {},
   "outputs": [],
   "source": [
    "##########################################################################################################################"
   ]
  },
  {
   "cell_type": "code",
   "execution_count": null,
   "id": "489d9bd6",
   "metadata": {},
   "outputs": [],
   "source": [
    "##########################################################################################################################"
   ]
  },
  {
   "cell_type": "code",
   "execution_count": null,
   "id": "154a871c",
   "metadata": {},
   "outputs": [],
   "source": [
    "##########################################################################################################################"
   ]
  },
  {
   "cell_type": "markdown",
   "id": "742ec1f9",
   "metadata": {},
   "source": [
    "# END OF PROGRAM"
   ]
  }
 ],
 "metadata": {
  "kernelspec": {
   "display_name": "neural_networks_env",
   "language": "python",
   "name": "neural_networks_env"
  },
  "language_info": {
   "codemirror_mode": {
    "name": "ipython",
    "version": 3
   },
   "file_extension": ".py",
   "mimetype": "text/x-python",
   "name": "python",
   "nbconvert_exporter": "python",
   "pygments_lexer": "ipython3",
   "version": "3.10.13"
  }
 },
 "nbformat": 4,
 "nbformat_minor": 5
}
